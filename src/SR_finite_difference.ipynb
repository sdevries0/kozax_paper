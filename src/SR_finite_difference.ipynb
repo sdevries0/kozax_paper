{
 "cells": [
  {
   "cell_type": "code",
   "execution_count": null,
   "metadata": {},
   "outputs": [],
   "source": [
    "import os\n",
    "os.environ[\"XLA_FLAGS\"] = '--xla_force_host_platform_device_count=10'\n",
    "\n",
    "import jax\n",
    "\n",
    "import diffrax\n",
    "import jax.numpy as jnp\n",
    "import jax.random as jr\n",
    "import numpy as np\n",
    "\n",
    "from kozax.genetic_programming import GeneticProgramming\n",
    "from pysr import PySRRegressor"
   ]
  },
  {
   "cell_type": "code",
   "execution_count": null,
   "metadata": {},
   "outputs": [],
   "source": [
    "class LotkaVolterra():\n",
    "    def __init__(self):\n",
    "        self.n_var = 2\n",
    "\n",
    "        self.alpha = 1.1\n",
    "        self.beta = 0.4\n",
    "        self.delta = 0.1\n",
    "        self.gamma = 0.4\n",
    "\n",
    "    def sample_init_states(self, batch_size, key):\n",
    "        return jr.uniform(key, shape = (batch_size,2), minval=5, maxval=15)\n",
    "    \n",
    "    def drift(self, t, state, args):\n",
    "        return jnp.array([self.alpha * state[0] - self.beta * state[0] * state[1], self.delta * state[0] * state[1] - self.gamma * state[1]])"
   ]
  },
  {
   "cell_type": "code",
   "execution_count": null,
   "metadata": {},
   "outputs": [],
   "source": [
    "def get_data(key, env, dt, T, batch_size=20):\n",
    "    x0s = env.sample_init_states(batch_size, key)\n",
    "    ts = jnp.arange(0, T, dt)\n",
    "\n",
    "    def solve(env, ts, x0):\n",
    "        solver = diffrax.Dopri5()\n",
    "        dt0 = 0.001\n",
    "        saveat = diffrax.SaveAt(ts=ts)\n",
    "\n",
    "        system = diffrax.ODETerm(env.drift)\n",
    "\n",
    "        sol = diffrax.diffeqsolve(system, solver, ts[0], ts[-1], dt0, x0, saveat=saveat, max_steps=2000, \n",
    "                                  adjoint=diffrax.DirectAdjoint(), stepsize_controller=diffrax.PIDController(atol=1e-7, rtol=1e-7, dtmin=0.001))\n",
    "        \n",
    "        return sol.ys\n",
    "\n",
    "    ys = jax.vmap(solve, in_axes=[None, None, 0])(env, ts, x0s)\n",
    "\n",
    "    dy = jax.vmap(lambda ys_: jax.vmap(lambda y: env.drift(0.0,y,None))(ys_))(ys)\n",
    "    \n",
    "    return ys, dy"
   ]
  },
  {
   "cell_type": "code",
   "execution_count": null,
   "metadata": {},
   "outputs": [],
   "source": [
    "class FitnessFunction:\n",
    "    def __call__(self, candidate, data, tree_evaluator):\n",
    "        _X, _Y = data\n",
    "        pred = jax.vmap(tree_evaluator, in_axes=[None, 0])(candidate, _X)\n",
    "        errors = jnp.abs(pred-_Y)/jnp.mean(jnp.abs(_Y))\n",
    "        fitness = jnp.mean(errors)\n",
    "        return fitness"
   ]
  },
  {
   "cell_type": "code",
   "execution_count": null,
   "metadata": {},
   "outputs": [],
   "source": [
    "def test_kozax(seeds, env, args, operator_list, variable_list = [\"x0\"]):\n",
    "    population_size, num_populations, num_generations = args\n",
    "\n",
    "    fitness_function = FitnessFunction()\n",
    "\n",
    "    layer_sizes = jnp.array([env.n_var])\n",
    "    strategy = GeneticProgramming(num_generations, population_size, fitness_function, operator_list, variable_list, layer_sizes, num_populations = num_populations,\n",
    "                                max_nodes = 15, coefficient_sd = 1.0, coefficient_optimisation=\"ES\", gradient_steps = 10, elite_size = 10, migration_period=5,\n",
    "                                size_parsimony=0.003, start_coefficient_optimisation = 0, optimise_coefficients_elite=100, ES_n_iterations=5, ES_n_offspring = 200, init_learning_rate=0.2)\n",
    "\n",
    "    for seed in seeds:\n",
    "        strategy.reset()\n",
    "        key = jr.PRNGKey(seed)\n",
    "        print(f\"Seed: {seed}\")\n",
    "        key, init_key, data_key = jr.split(key, 3)\n",
    "\n",
    "        ys, dys = get_data(data_key, env, dt=1.0, T=30, batch_size=1)\n",
    "\n",
    "        population = strategy.initialize_population(init_key)\n",
    "\n",
    "        for g in range(num_generations):\n",
    "            key, eval_key, sample_key = jr.split(key, 3)\n",
    "            fitness, population = strategy.evaluate_population(population, (ys[0], dys[0]), eval_key)\n",
    "\n",
    "            if g < (num_generations-1):\n",
    "                \n",
    "                population = strategy.evolve(population, fitness, sample_key)\n",
    "\n",
    "        strategy.print_pareto_front(save=True, file_name=f'data/Kozax_results/LV_full/{seed}')"
   ]
  },
  {
   "cell_type": "code",
   "execution_count": null,
   "metadata": {},
   "outputs": [],
   "source": [
    "def test_pysr(seeds, env, args):\n",
    "    population_size, num_populations, num_generations = args\n",
    "\n",
    "    for seed in seeds:\n",
    "        key = jr.PRNGKey(seed)\n",
    "        print(f\"Seed: {seed}\")\n",
    "        key, init_key, data_key = jr.split(key, 3)\n",
    "\n",
    "        ys, dys = get_data(data_key, env, dt=1.0, T=30, batch_size=1)\n",
    "        \n",
    "\n",
    "        model = PySRRegressor(\n",
    "                binary_operators=\"+ * - / ^\".split(\" \"),\n",
    "                unary_operators=\"\",\n",
    "                loss=\"loss(x, y) = abs(x-y)\",\n",
    "                constraints={\"^\": (-1, 3)},\n",
    "                equation_file=f\"data/PySR_results/LV_full/{seed}.csv\",\n",
    "                population_size=population_size,\n",
    "                niterations=num_generations,\n",
    "                populations=num_populations,\n",
    "                random_state=seed,\n",
    "                deterministic=True,\n",
    "                procs=0,\n",
    "                multithreading=False,\n",
    "                verbosity=0\n",
    "            )\n",
    "\n",
    "        model.fit(ys[0], dys[0])#, variable_names = variable_list)"
   ]
  },
  {
   "cell_type": "code",
   "execution_count": null,
   "metadata": {},
   "outputs": [],
   "source": [
    "def symbolic_regression(seeds, env, method, operator_list, variable_list, args):\n",
    "    if method==\"PySR\":\n",
    "        test_pysr(seeds, env, args)\n",
    "\n",
    "    elif method==\"Kozax\":\n",
    "        test_kozax(seeds, env, args, operator_list, variable_list)"
   ]
  },
  {
   "cell_type": "code",
   "execution_count": null,
   "metadata": {},
   "outputs": [],
   "source": [
    "env = LotkaVolterra()\n",
    "\n",
    "operator_list = [(\"+\", lambda x, y: jnp.add(x, y), 2, 0.5), \n",
    "                 (\"-\", lambda x, y: jnp.subtract(x, y), 2, 0.5),\n",
    "                 (\"*\", lambda x, y: jnp.multiply(x, y), 2, 0.5),\n",
    "                 ]\n",
    "\n",
    "variable_list = [[\"x\" + str(i) for i in range(env.n_var)]]\n",
    "\n",
    "seeds = np.arange(10)\n",
    "\n",
    "args = [100, 10, 50]\n",
    "\n",
    "method = \"Kozax\"\n",
    "# method = \"PySR\"\n",
    "\n",
    "symbolic_regression(seeds, env, method, operator_list, variable_list, args)"
   ]
  }
 ],
 "metadata": {
  "kernelspec": {
   "display_name": "Python 3",
   "language": "python",
   "name": "python3"
  },
  "language_info": {
   "codemirror_mode": {
    "name": "ipython",
    "version": 3
   },
   "file_extension": ".py",
   "mimetype": "text/x-python",
   "name": "python",
   "nbconvert_exporter": "python",
   "pygments_lexer": "ipython3",
   "version": "3.11.4"
  },
  "orig_nbformat": 4
 },
 "nbformat": 4,
 "nbformat_minor": 2
}
